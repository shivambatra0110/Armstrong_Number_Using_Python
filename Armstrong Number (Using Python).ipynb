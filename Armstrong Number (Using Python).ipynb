{
 "cells": [
  {
   "cell_type": "markdown",
   "id": "d6bb4998",
   "metadata": {},
   "source": [
    "## To check if Number is Armstrong Number\n",
    "Armstrong number is a Number that is equal to the sum of cubes of its digits.\n",
    "Like\n",
    "153 = (1 * 1 * 1)+(5 * 5 * 5)+(3 * 3 * 3)  \n",
    "Where:  \n",
    "(1 * 1 * 1)=1  \n",
    "(5 * 5 * 5)=125  \n",
    "(3 * 3 * 3)=27  \n",
    "So:  \n",
    "1+125+27=153"
   ]
  },
  {
   "cell_type": "code",
   "execution_count": 6,
   "id": "0d6707c6",
   "metadata": {},
   "outputs": [
    {
     "name": "stdout",
     "output_type": "stream",
     "text": [
      "Enter a number: 153\n",
      "153 is a Armstrong number\n"
     ]
    }
   ],
   "source": [
    "# To take input from user\n",
    "Number = int(input(\"Enter a number: \"))\n",
    "#Declaring a varible which will contain sum of all the cubes of each Digit\n",
    "sum = 0\n",
    "#Declaring a variable equal to number so we can make a copy of our Number\n",
    "Num = Number\n",
    "#using while loop\n",
    "#condition Number should be greater than 0\n",
    "while Num > 0:\n",
    "    # storing every single digit in Digit\n",
    "    Digit = Num % 10\n",
    "    #adding cubes of the each digit to a varible we declared as sum\n",
    "    sum = sum + Digit ** 3\n",
    "    # #Removing last digit from the Number\n",
    "    Num //= 10\n",
    "#using if statement we are checking that the number is equal to sum \n",
    "if Number == sum:\n",
    "    #if it is equal to sum print its a Armstrong number\n",
    "   print(Number,\"is a Armstrong number\")\n",
    "#else it is not a Armstrong number\n",
    "else:\n",
    "   print(Number,\"is not a Armstrong number\")"
   ]
  }
 ],
 "metadata": {
  "kernelspec": {
   "display_name": "Python 3 (ipykernel)",
   "language": "python",
   "name": "python3"
  },
  "language_info": {
   "codemirror_mode": {
    "name": "ipython",
    "version": 3
   },
   "file_extension": ".py",
   "mimetype": "text/x-python",
   "name": "python",
   "nbconvert_exporter": "python",
   "pygments_lexer": "ipython3",
   "version": "3.9.12"
  }
 },
 "nbformat": 4,
 "nbformat_minor": 5
}
